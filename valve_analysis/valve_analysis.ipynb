{
 "cells": [
  {
   "cell_type": "code",
   "execution_count": 1,
   "metadata": {},
   "outputs": [
    {
     "name": "stdout",
     "output_type": "stream",
     "text": [
      "Using matplotlib backend: TkAgg\n",
      "Populating the interactive namespace from numpy and matplotlib\n",
      "\n",
      "Module Import Successful\n"
     ]
    }
   ],
   "source": [
    "#1.1 Setup - module import/other setup\n",
    "\n",
    "%pylab\n",
    "%matplotlib inline\n",
    "matplotlib.rcParams['figure.figsize'] = (12,12)\n",
    "from __future__ import division\n",
    "import sys\n",
    "#sys.path.append('../')\n",
    "#sys.path.append('../Lab_Scripts_WI/analysis/')   # For Simon's repo\n",
    "import csv_to_data\n",
    "import scipy.signal\n",
    "import json\n",
    "import pandas\n",
    "import csv\n",
    "from collections import OrderedDict, defaultdict\n",
    "print\n",
    "print 'Module Import Successful'"
   ]
  },
  {
   "cell_type": "code",
   "execution_count": 7,
   "metadata": {},
   "outputs": [],
   "source": [
    "path = \"data/\"\n",
    "filename = \"monkeys_80-30_dr20_try3_2020-03-03_170333_temp2\"\n",
    "extension = \".csv\""
   ]
  },
  {
   "cell_type": "code",
   "execution_count": 14,
   "metadata": {
    "scrolled": true
   },
   "outputs": [
    {
     "data": {
      "text/plain": [
       "Index([u'timestamp', u'elapsed_time', u'GDN0.Iin', u'GDN0.Flow',\n",
       "       u'GDN0.PlasmaDuty', u'GDN1.Iin', u'GDN1.Flow', u'GDN1.PlasmaDuty',\n",
       "       u'GDN2.Iin', u'GDN2.Flow', u'GDN2.PlasmaDuty', u'GDN3.Iin',\n",
       "       u'GDN3.Flow', u'GDN3.PlasmaDuty', u'GSAT_Pi.NO2', u'GSAT_Pi.NO',\n",
       "       u'GSAT_Pi.O2', u'GSAT_Pi.NO_Temp', u'GSAT_Pi.NO2_Temp', u'GSAT_Pi.Flow',\n",
       "       u'GSAT_Pi.dpTemp', u'GSAT_Pi.hTemp', u'GSAT_Pi.Humid',\n",
       "       u'GSAT_Pi.Apress', u'valve_ctrl.valve0', u'valve_ctrl.valve1',\n",
       "       u'valve_ctrl.valve2', u'valve_ctrl.valve3', u'valve_ctrl.valve4',\n",
       "       u'valve_ctrl.valve5', u'valve_ctrl.valve6', u'valve_ctrl.valve7',\n",
       "       u'MFC00.pressure', u'MFC00.temp', u'MFC00.mass_flow', u'MFC01.pressure',\n",
       "       u'MFC01.temp', u'MFC01.mass_flow', u'MFC02.pressure', u'MFC02.temp',\n",
       "       u'MFC02.mass_flow', u'MFC03.pressure', u'MFC03.temp',\n",
       "       u'MFC03.mass_flow', u'vent_flow.flow', u'read_err'],\n",
       "      dtype='object')"
      ]
     },
     "execution_count": 14,
     "metadata": {},
     "output_type": "execute_result"
    }
   ],
   "source": [
    "df = pandas.read_csv(path + filename + extension)\n",
    "df.keys()"
   ]
  },
  {
   "cell_type": "code",
   "execution_count": 11,
   "metadata": {},
   "outputs": [],
   "source": [
    "time = 'elapsed_time'\n",
    "valve1 = 'valve_ctrl.valve1'\n",
    "valve2 = 'valve_ctrl.valve2'\n",
    "valve3 = 'valve_ctrl.valve3'\n",
    "valve4 = 'valve_ctrl.valve4'\n",
    "valve5 = 'valve_ctrl.valve5'\n",
    "valve6 = 'valve_ctrl.valve6'\n",
    "valve7 = 'valve_ctrl.valve7'"
   ]
  },
  {
   "cell_type": "code",
   "execution_count": 20,
   "metadata": {},
   "outputs": [
    {
     "data": {
      "text/plain": [
       "<matplotlib.legend.Legend at 0x14e67750>"
      ]
     },
     "execution_count": 20,
     "metadata": {},
     "output_type": "execute_result"
    },
    {
     "data": {
      "image/png": "[encoded data removed]",
      "text/plain": [
       "<Figure size 1152x864 with 1 Axes>"
      ]
     },
     "metadata": {
      "needs_background": "light"
     },
     "output_type": "display_data"
    }
   ],
   "source": [
    "figure(figsize=(16,12))\n",
    "plot(df[time]/3600, df[valve3], color='skyblue', linestyle='-' ,label='GDN 0 prescrubber valve', alpha=.8)\n",
    "xlabel('Time (HR)')  # annotate X axis\n",
    "ylabel(\"valve state\") # annotate Y axis\n",
    "legend(loc=2)  # Display names for curves"
   ]
  },
  {
   "cell_type": "code",
   "execution_count": null,
   "metadata": {},
   "outputs": [],
   "source": []
  }
 ],
 "metadata": {
  "kernelspec": {
   "display_name": "Python 2",
   "language": "python",
   "name": "python2"
  },
  "language_info": {
   "codemirror_mode": {
    "name": "ipython",
    "version": 2
   },
   "file_extension": ".py",
   "mimetype": "text/x-python",
   "name": "python",
   "nbconvert_exporter": "python",
   "pygments_lexer": "ipython2",
   "version": "2.7.13"
  }
 },
 "nbformat": 4,
 "nbformat_minor": 2
}
